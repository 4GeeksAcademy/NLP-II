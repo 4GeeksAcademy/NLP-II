{
    "cells": [
        {
            "cell_type": "markdown",
            "metadata": {},
            "source": [
                "# Explore here"
            ]
        },
        {
            "cell_type": "code",
            "execution_count": 2,
            "metadata": {},
            "outputs": [
                {
                    "name": "stdout",
                    "output_type": "stream",
                    "text": [
                        "<class 'pandas.core.frame.DataFrame'>\n",
                        "RangeIndex: 2999 entries, 0 to 2998\n",
                        "Data columns (total 2 columns):\n",
                        " #   Column   Non-Null Count  Dtype \n",
                        "---  ------   --------------  ----- \n",
                        " 0   url      2999 non-null   object\n",
                        " 1   is_spam  2999 non-null   bool  \n",
                        "dtypes: bool(1), object(1)\n",
                        "memory usage: 26.5+ KB\n"
                    ]
                },
                {
                    "data": {
                        "text/plain": [
                            "((2999, 2),\n",
                            " None,\n",
                            "                                          url is_spam\n",
                            " count                                   2999    2999\n",
                            " unique                                  2369       2\n",
                            " top     https://www.bloomberg.com/tosv2.html   False\n",
                            " freq                                      26    2303)"
                        ]
                    },
                    "execution_count": 2,
                    "metadata": {},
                    "output_type": "execute_result"
                }
            ],
            "source": [
                "import pandas as pd\n",
                "import seaborn as sns\n",
                "import matplotlib.pyplot as plt\n",
                "# Cargar el dataset\n",
                "file_path = '../data/raw/url_spam.csv'\n",
                "df = pd.read_csv(file_path)\n",
                "\n",
                "# Análisis descriptivo básico\n",
                "shape = df.shape\n",
                "info = df.info()\n",
                "describe = df.describe()\n",
                "\n",
                "(shape, info, describe)"
            ]
        },
        {
            "cell_type": "code",
            "execution_count": 3,
            "metadata": {},
            "outputs": [
                {
                    "name": "stdout",
                    "output_type": "stream",
                    "text": [
                        "Número de filas duplicadas: 630\n",
                        "Duplicados eliminados. El nuevo tamaño del dataset es: (2369, 2)\n",
                        "\n",
                        "Valores nulos por columna:\n",
                        "url        0\n",
                        "is_spam    0\n",
                        "dtype: int64\n",
                        "\n",
                        "Porcentaje de valores nulos por columna:\n",
                        "url        0.0\n",
                        "is_spam    0.0\n",
                        "dtype: float64\n"
                    ]
                }
            ],
            "source": [
                "# 1. Verificar si existen duplicados\n",
                "duplicados = df.duplicated().sum()\n",
                "print(f\"Número de filas duplicadas: {duplicados}\")\n",
                "\n",
                "# Si existen duplicados, los eliminamos\n",
                "if duplicados > 0:\n",
                "    df = df.drop_duplicates()\n",
                "    print(f\"Duplicados eliminados. El nuevo tamaño del dataset es: {df.shape}\")\n",
                "\n",
                "# 2. Análisis de valores nulos\n",
                "valores_nulos = df.isnull().sum()\n",
                "print(\"\\nValores nulos por columna:\")\n",
                "print(valores_nulos)\n",
                "\n",
                "# Mostrar el porcentaje de valores nulos por columna\n",
                "porcentaje_nulos = (valores_nulos / df.shape[0]) * 100\n",
                "print(\"\\nPorcentaje de valores nulos por columna:\")\n",
                "print(porcentaje_nulos)"
            ]
        },
        {
            "cell_type": "code",
            "execution_count": 7,
            "metadata": {},
            "outputs": [
                {
                    "name": "stderr",
                    "output_type": "stream",
                    "text": [
                        "[nltk_data] Downloading package stopwords to /home/vscode/nltk_data...\n",
                        "[nltk_data]   Package stopwords is already up-to-date!\n",
                        "[nltk_data] Downloading package wordnet to /home/vscode/nltk_data...\n",
                        "[nltk_data]   Package wordnet is already up-to-date!\n"
                    ]
                },
                {
                    "data": {
                        "text/plain": [
                            "True"
                        ]
                    },
                    "execution_count": 7,
                    "metadata": {},
                    "output_type": "execute_result"
                }
            ],
            "source": [
                "import nltk\n",
                "\n",
                "# Descargar las stopwords\n",
                "nltk.download('stopwords')\n",
                "\n",
                "# Descargar el lematizador WordNet\n",
                "nltk.download('wordnet')"
            ]
        },
        {
            "cell_type": "code",
            "execution_count": 8,
            "metadata": {},
            "outputs": [
                {
                    "name": "stdout",
                    "output_type": "stream",
                    "text": [
                        "565       theskimm pick thing youll need smooth road trip\n",
                        "2419    newyorker culture essay coming rising fifty ye...\n",
                        "297                 inverse mind body first stay home dad\n",
                        "1844    wsj article mask could help stop coronavirus s...\n",
                        "238      axios barr trump southern district new york html\n",
                        "Name: processed_url, dtype: object\n"
                    ]
                }
            ],
            "source": [
                "import re\n",
                "from sklearn.model_selection import train_test_split\n",
                "from nltk.corpus import stopwords\n",
                "from nltk.stem import WordNetLemmatizer\n",
                "\n",
                "# Inicializar el lematizador\n",
                "lemmatizer = WordNetLemmatizer()\n",
                "\n",
                "# Definir las stopwords para URLs\n",
                "url_stopwords = set(stopwords.words('english')).union(set(['www', 'http', 'https', 'com', 'org', 'net']))\n",
                "\n",
                "def preprocess_url(url):\n",
                "    # Convertir a minúsculas\n",
                "    url = url.lower()\n",
                "    \n",
                "    # Segmentar la URL usando signos de puntuación\n",
                "    tokens = re.split(r'\\W+', url)\n",
                "    \n",
                "    # Eliminar stopwords y lematizar\n",
                "    tokens = [lemmatizer.lemmatize(word) for word in tokens if word not in url_stopwords and word.isalpha()]\n",
                "    \n",
                "    return ' '.join(tokens)\n",
                "\n",
                "# Aplicar el preprocesamiento a todas las URLs\n",
                "df['processed_url'] = df['url'].apply(preprocess_url)\n",
                "\n",
                "# Dividir los datos en conjuntos de entrenamiento y prueba\n",
                "X_train, X_test, y_train, y_test = train_test_split(df['processed_url'], df['is_spam'], test_size=0.3, random_state=42)\n",
                "\n",
                "# Mostrar las primeras filas del conjunto de entrenamiento preprocesado\n",
                "print(X_train.head())"
            ]
        },
        {
            "cell_type": "code",
            "execution_count": 12,
            "metadata": {},
            "outputs": [
                {
                    "name": "stdout",
                    "output_type": "stream",
                    "text": [
                        "Accuracy del modelo SVM: 0.94\n",
                        "Reporte de clasificación:\n",
                        "              precision    recall  f1-score   support\n",
                        "\n",
                        "       False       0.95      0.99      0.97       641\n",
                        "        True       0.83      0.49      0.61        70\n",
                        "\n",
                        "    accuracy                           0.94       711\n",
                        "   macro avg       0.89      0.74      0.79       711\n",
                        "weighted avg       0.93      0.94      0.93       711\n",
                        "\n"
                    ]
                }
            ],
            "source": [
                "from sklearn.feature_extraction.text import TfidfVectorizer\n",
                "from sklearn.svm import SVC\n",
                "from sklearn.metrics import classification_report, accuracy_score\n",
                "\n",
                "# Vectorización de las URLs usando TF-IDF\n",
                "vectorizer = TfidfVectorizer()\n",
                "X_train_tfidf = vectorizer.fit_transform(X_train)\n",
                "X_test_tfidf = vectorizer.transform(X_test)\n",
                "\n",
                "# Entrenamiento del modelo SVM\n",
                "svm_model = SVC(kernel='rbf')  # Utilizamos un kernel lineal\n",
                "svm_model.fit(X_train_tfidf, y_train)\n",
                "\n",
                "# Predicción en el conjunto de prueba\n",
                "y_pred = svm_model.predict(X_test_tfidf)\n",
                "\n",
                "# Evaluación del modelo\n",
                "accuracy = accuracy_score(y_test, y_pred)\n",
                "report = classification_report(y_test, y_pred)\n",
                "\n",
                "print(f\"Accuracy del modelo SVM: {accuracy:.2f}\")\n",
                "print(\"Reporte de clasificación:\")\n",
                "print(report)"
            ]
        },
        {
            "cell_type": "code",
            "execution_count": 13,
            "metadata": {},
            "outputs": [
                {
                    "name": "stdout",
                    "output_type": "stream",
                    "text": [
                        "Fitting 5 folds for each of 32 candidates, totalling 160 fits\n",
                        "[CV] END ......................C=0.1, gamma=1, kernel=linear; total time=   0.1s\n",
                        "[CV] END ......................C=0.1, gamma=1, kernel=linear; total time=   0.1s\n",
                        "[CV] END ......................C=0.1, gamma=1, kernel=linear; total time=   0.1s\n",
                        "[CV] END ......................C=0.1, gamma=1, kernel=linear; total time=   0.1s\n",
                        "[CV] END ......................C=0.1, gamma=1, kernel=linear; total time=   0.1s\n",
                        "[CV] END .........................C=0.1, gamma=1, kernel=rbf; total time=   0.1s\n",
                        "[CV] END .........................C=0.1, gamma=1, kernel=rbf; total time=   0.1s\n",
                        "[CV] END .........................C=0.1, gamma=1, kernel=rbf; total time=   0.1s\n",
                        "[CV] END .........................C=0.1, gamma=1, kernel=rbf; total time=   0.1s\n",
                        "[CV] END .........................C=0.1, gamma=1, kernel=rbf; total time=   0.1s\n",
                        "[CV] END ....................C=0.1, gamma=0.1, kernel=linear; total time=   0.1s\n",
                        "[CV] END ....................C=0.1, gamma=0.1, kernel=linear; total time=   0.1s\n",
                        "[CV] END ....................C=0.1, gamma=0.1, kernel=linear; total time=   0.1s\n",
                        "[CV] END ....................C=0.1, gamma=0.1, kernel=linear; total time=   0.1s\n",
                        "[CV] END ....................C=0.1, gamma=0.1, kernel=linear; total time=   0.1s\n",
                        "[CV] END .......................C=0.1, gamma=0.1, kernel=rbf; total time=   0.1s\n",
                        "[CV] END .......................C=0.1, gamma=0.1, kernel=rbf; total time=   0.1s\n",
                        "[CV] END .......................C=0.1, gamma=0.1, kernel=rbf; total time=   0.1s\n",
                        "[CV] END .......................C=0.1, gamma=0.1, kernel=rbf; total time=   0.1s\n",
                        "[CV] END .......................C=0.1, gamma=0.1, kernel=rbf; total time=   0.1s\n",
                        "[CV] END ...................C=0.1, gamma=0.01, kernel=linear; total time=   0.1s\n",
                        "[CV] END ...................C=0.1, gamma=0.01, kernel=linear; total time=   0.1s\n",
                        "[CV] END ...................C=0.1, gamma=0.01, kernel=linear; total time=   0.1s\n",
                        "[CV] END ...................C=0.1, gamma=0.01, kernel=linear; total time=   0.1s\n",
                        "[CV] END ...................C=0.1, gamma=0.01, kernel=linear; total time=   0.1s\n",
                        "[CV] END ......................C=0.1, gamma=0.01, kernel=rbf; total time=   0.0s\n",
                        "[CV] END ......................C=0.1, gamma=0.01, kernel=rbf; total time=   0.0s\n",
                        "[CV] END ......................C=0.1, gamma=0.01, kernel=rbf; total time=   0.0s\n",
                        "[CV] END ......................C=0.1, gamma=0.01, kernel=rbf; total time=   0.0s\n",
                        "[CV] END ......................C=0.1, gamma=0.01, kernel=rbf; total time=   0.0s\n",
                        "[CV] END ..................C=0.1, gamma=0.001, kernel=linear; total time=   0.1s\n",
                        "[CV] END ..................C=0.1, gamma=0.001, kernel=linear; total time=   0.1s\n",
                        "[CV] END ..................C=0.1, gamma=0.001, kernel=linear; total time=   0.1s\n",
                        "[CV] END ..................C=0.1, gamma=0.001, kernel=linear; total time=   0.1s\n",
                        "[CV] END ..................C=0.1, gamma=0.001, kernel=linear; total time=   0.1s\n",
                        "[CV] END .....................C=0.1, gamma=0.001, kernel=rbf; total time=   0.0s\n",
                        "[CV] END .....................C=0.1, gamma=0.001, kernel=rbf; total time=   0.0s\n",
                        "[CV] END .....................C=0.1, gamma=0.001, kernel=rbf; total time=   0.0s\n",
                        "[CV] END .....................C=0.1, gamma=0.001, kernel=rbf; total time=   0.0s\n",
                        "[CV] END .....................C=0.1, gamma=0.001, kernel=rbf; total time=   0.0s\n",
                        "[CV] END ........................C=1, gamma=1, kernel=linear; total time=   0.1s\n",
                        "[CV] END ........................C=1, gamma=1, kernel=linear; total time=   0.1s\n",
                        "[CV] END ........................C=1, gamma=1, kernel=linear; total time=   0.1s\n",
                        "[CV] END ........................C=1, gamma=1, kernel=linear; total time=   0.1s\n",
                        "[CV] END ........................C=1, gamma=1, kernel=linear; total time=   0.1s\n",
                        "[CV] END ...........................C=1, gamma=1, kernel=rbf; total time=   0.1s\n",
                        "[CV] END ...........................C=1, gamma=1, kernel=rbf; total time=   0.1s\n",
                        "[CV] END ...........................C=1, gamma=1, kernel=rbf; total time=   0.2s\n",
                        "[CV] END ...........................C=1, gamma=1, kernel=rbf; total time=   0.1s\n",
                        "[CV] END ...........................C=1, gamma=1, kernel=rbf; total time=   0.1s\n",
                        "[CV] END ......................C=1, gamma=0.1, kernel=linear; total time=   0.1s\n",
                        "[CV] END ......................C=1, gamma=0.1, kernel=linear; total time=   0.1s\n",
                        "[CV] END ......................C=1, gamma=0.1, kernel=linear; total time=   0.1s\n",
                        "[CV] END ......................C=1, gamma=0.1, kernel=linear; total time=   0.1s\n",
                        "[CV] END ......................C=1, gamma=0.1, kernel=linear; total time=   0.1s\n",
                        "[CV] END .........................C=1, gamma=0.1, kernel=rbf; total time=   0.1s\n",
                        "[CV] END .........................C=1, gamma=0.1, kernel=rbf; total time=   0.1s\n",
                        "[CV] END .........................C=1, gamma=0.1, kernel=rbf; total time=   0.1s\n",
                        "[CV] END .........................C=1, gamma=0.1, kernel=rbf; total time=   0.1s\n",
                        "[CV] END .........................C=1, gamma=0.1, kernel=rbf; total time=   0.1s\n",
                        "[CV] END .....................C=1, gamma=0.01, kernel=linear; total time=   0.1s\n",
                        "[CV] END .....................C=1, gamma=0.01, kernel=linear; total time=   0.1s\n",
                        "[CV] END .....................C=1, gamma=0.01, kernel=linear; total time=   0.1s\n",
                        "[CV] END .....................C=1, gamma=0.01, kernel=linear; total time=   0.1s\n",
                        "[CV] END .....................C=1, gamma=0.01, kernel=linear; total time=   0.1s\n",
                        "[CV] END ........................C=1, gamma=0.01, kernel=rbf; total time=   0.1s\n",
                        "[CV] END ........................C=1, gamma=0.01, kernel=rbf; total time=   0.1s\n",
                        "[CV] END ........................C=1, gamma=0.01, kernel=rbf; total time=   0.1s\n",
                        "[CV] END ........................C=1, gamma=0.01, kernel=rbf; total time=   0.1s\n",
                        "[CV] END ........................C=1, gamma=0.01, kernel=rbf; total time=   0.1s\n",
                        "[CV] END ....................C=1, gamma=0.001, kernel=linear; total time=   0.1s\n",
                        "[CV] END ....................C=1, gamma=0.001, kernel=linear; total time=   0.1s\n",
                        "[CV] END ....................C=1, gamma=0.001, kernel=linear; total time=   0.1s\n",
                        "[CV] END ....................C=1, gamma=0.001, kernel=linear; total time=   0.1s\n",
                        "[CV] END ....................C=1, gamma=0.001, kernel=linear; total time=   0.1s\n",
                        "[CV] END .......................C=1, gamma=0.001, kernel=rbf; total time=   0.0s\n",
                        "[CV] END .......................C=1, gamma=0.001, kernel=rbf; total time=   0.0s\n",
                        "[CV] END .......................C=1, gamma=0.001, kernel=rbf; total time=   0.0s\n",
                        "[CV] END .......................C=1, gamma=0.001, kernel=rbf; total time=   0.0s\n",
                        "[CV] END .......................C=1, gamma=0.001, kernel=rbf; total time=   0.0s\n",
                        "[CV] END .......................C=10, gamma=1, kernel=linear; total time=   0.1s\n",
                        "[CV] END .......................C=10, gamma=1, kernel=linear; total time=   0.1s\n",
                        "[CV] END .......................C=10, gamma=1, kernel=linear; total time=   0.1s\n",
                        "[CV] END .......................C=10, gamma=1, kernel=linear; total time=   0.1s\n",
                        "[CV] END .......................C=10, gamma=1, kernel=linear; total time=   0.1s\n",
                        "[CV] END ..........................C=10, gamma=1, kernel=rbf; total time=   0.1s\n",
                        "[CV] END ..........................C=10, gamma=1, kernel=rbf; total time=   0.1s\n",
                        "[CV] END ..........................C=10, gamma=1, kernel=rbf; total time=   0.1s\n",
                        "[CV] END ..........................C=10, gamma=1, kernel=rbf; total time=   0.1s\n",
                        "[CV] END ..........................C=10, gamma=1, kernel=rbf; total time=   0.1s\n",
                        "[CV] END .....................C=10, gamma=0.1, kernel=linear; total time=   0.1s\n",
                        "[CV] END .....................C=10, gamma=0.1, kernel=linear; total time=   0.1s\n",
                        "[CV] END .....................C=10, gamma=0.1, kernel=linear; total time=   0.1s\n",
                        "[CV] END .....................C=10, gamma=0.1, kernel=linear; total time=   0.1s\n",
                        "[CV] END .....................C=10, gamma=0.1, kernel=linear; total time=   0.1s\n",
                        "[CV] END ........................C=10, gamma=0.1, kernel=rbf; total time=   0.1s\n",
                        "[CV] END ........................C=10, gamma=0.1, kernel=rbf; total time=   0.1s\n",
                        "[CV] END ........................C=10, gamma=0.1, kernel=rbf; total time=   0.1s\n",
                        "[CV] END ........................C=10, gamma=0.1, kernel=rbf; total time=   0.1s\n",
                        "[CV] END ........................C=10, gamma=0.1, kernel=rbf; total time=   0.1s\n",
                        "[CV] END ....................C=10, gamma=0.01, kernel=linear; total time=   0.1s\n",
                        "[CV] END ....................C=10, gamma=0.01, kernel=linear; total time=   0.1s\n",
                        "[CV] END ....................C=10, gamma=0.01, kernel=linear; total time=   0.1s\n",
                        "[CV] END ....................C=10, gamma=0.01, kernel=linear; total time=   0.1s\n",
                        "[CV] END ....................C=10, gamma=0.01, kernel=linear; total time=   0.1s\n",
                        "[CV] END .......................C=10, gamma=0.01, kernel=rbf; total time=   0.1s\n",
                        "[CV] END .......................C=10, gamma=0.01, kernel=rbf; total time=   0.1s\n",
                        "[CV] END .......................C=10, gamma=0.01, kernel=rbf; total time=   0.1s\n",
                        "[CV] END .......................C=10, gamma=0.01, kernel=rbf; total time=   0.1s\n",
                        "[CV] END .......................C=10, gamma=0.01, kernel=rbf; total time=   0.1s\n",
                        "[CV] END ...................C=10, gamma=0.001, kernel=linear; total time=   0.1s\n",
                        "[CV] END ...................C=10, gamma=0.001, kernel=linear; total time=   0.1s\n",
                        "[CV] END ...................C=10, gamma=0.001, kernel=linear; total time=   0.1s\n",
                        "[CV] END ...................C=10, gamma=0.001, kernel=linear; total time=   0.1s\n",
                        "[CV] END ...................C=10, gamma=0.001, kernel=linear; total time=   0.1s\n",
                        "[CV] END ......................C=10, gamma=0.001, kernel=rbf; total time=   0.1s\n",
                        "[CV] END ......................C=10, gamma=0.001, kernel=rbf; total time=   0.1s\n",
                        "[CV] END ......................C=10, gamma=0.001, kernel=rbf; total time=   0.1s\n",
                        "[CV] END ......................C=10, gamma=0.001, kernel=rbf; total time=   0.1s\n",
                        "[CV] END ......................C=10, gamma=0.001, kernel=rbf; total time=   0.1s\n",
                        "[CV] END ......................C=100, gamma=1, kernel=linear; total time=   0.1s\n",
                        "[CV] END ......................C=100, gamma=1, kernel=linear; total time=   0.1s\n",
                        "[CV] END ......................C=100, gamma=1, kernel=linear; total time=   0.0s\n",
                        "[CV] END ......................C=100, gamma=1, kernel=linear; total time=   0.0s\n",
                        "[CV] END ......................C=100, gamma=1, kernel=linear; total time=   0.1s\n",
                        "[CV] END .........................C=100, gamma=1, kernel=rbf; total time=   0.1s\n",
                        "[CV] END .........................C=100, gamma=1, kernel=rbf; total time=   0.1s\n",
                        "[CV] END .........................C=100, gamma=1, kernel=rbf; total time=   0.1s\n",
                        "[CV] END .........................C=100, gamma=1, kernel=rbf; total time=   0.1s\n",
                        "[CV] END .........................C=100, gamma=1, kernel=rbf; total time=   0.1s\n",
                        "[CV] END ....................C=100, gamma=0.1, kernel=linear; total time=   0.0s\n",
                        "[CV] END ....................C=100, gamma=0.1, kernel=linear; total time=   0.0s\n",
                        "[CV] END ....................C=100, gamma=0.1, kernel=linear; total time=   0.0s\n",
                        "[CV] END ....................C=100, gamma=0.1, kernel=linear; total time=   0.0s\n",
                        "[CV] END ....................C=100, gamma=0.1, kernel=linear; total time=   0.0s\n",
                        "[CV] END .......................C=100, gamma=0.1, kernel=rbf; total time=   0.1s\n",
                        "[CV] END .......................C=100, gamma=0.1, kernel=rbf; total time=   0.1s\n",
                        "[CV] END .......................C=100, gamma=0.1, kernel=rbf; total time=   0.1s\n",
                        "[CV] END .......................C=100, gamma=0.1, kernel=rbf; total time=   0.1s\n",
                        "[CV] END .......................C=100, gamma=0.1, kernel=rbf; total time=   0.1s\n",
                        "[CV] END ...................C=100, gamma=0.01, kernel=linear; total time=   0.0s\n",
                        "[CV] END ...................C=100, gamma=0.01, kernel=linear; total time=   0.0s\n",
                        "[CV] END ...................C=100, gamma=0.01, kernel=linear; total time=   0.0s\n",
                        "[CV] END ...................C=100, gamma=0.01, kernel=linear; total time=   0.0s\n",
                        "[CV] END ...................C=100, gamma=0.01, kernel=linear; total time=   0.0s\n",
                        "[CV] END ......................C=100, gamma=0.01, kernel=rbf; total time=   0.1s\n",
                        "[CV] END ......................C=100, gamma=0.01, kernel=rbf; total time=   0.1s\n",
                        "[CV] END ......................C=100, gamma=0.01, kernel=rbf; total time=   0.1s\n",
                        "[CV] END ......................C=100, gamma=0.01, kernel=rbf; total time=   0.1s\n",
                        "[CV] END ......................C=100, gamma=0.01, kernel=rbf; total time=   0.1s\n",
                        "[CV] END ..................C=100, gamma=0.001, kernel=linear; total time=   0.0s\n",
                        "[CV] END ..................C=100, gamma=0.001, kernel=linear; total time=   0.0s\n",
                        "[CV] END ..................C=100, gamma=0.001, kernel=linear; total time=   0.0s\n",
                        "[CV] END ..................C=100, gamma=0.001, kernel=linear; total time=   0.0s\n",
                        "[CV] END ..................C=100, gamma=0.001, kernel=linear; total time=   0.0s\n",
                        "[CV] END .....................C=100, gamma=0.001, kernel=rbf; total time=   0.1s\n",
                        "[CV] END .....................C=100, gamma=0.001, kernel=rbf; total time=   0.1s\n",
                        "[CV] END .....................C=100, gamma=0.001, kernel=rbf; total time=   0.1s\n",
                        "[CV] END .....................C=100, gamma=0.001, kernel=rbf; total time=   0.1s\n",
                        "[CV] END .....................C=100, gamma=0.001, kernel=rbf; total time=   0.1s\n",
                        "Mejores hiperparámetros encontrados por Grid Search:\n",
                        "{'C': 10, 'gamma': 0.1, 'kernel': 'rbf'}\n",
                        "Accuracy del modelo SVM optimizado: 0.95\n",
                        "Reporte de clasificación del modelo optimizado:\n",
                        "              precision    recall  f1-score   support\n",
                        "\n",
                        "       False       0.96      0.98      0.97       641\n",
                        "        True       0.78      0.64      0.70        70\n",
                        "\n",
                        "    accuracy                           0.95       711\n",
                        "   macro avg       0.87      0.81      0.84       711\n",
                        "weighted avg       0.94      0.95      0.94       711\n",
                        "\n"
                    ]
                }
            ],
            "source": [
                "from sklearn.model_selection import GridSearchCV\n",
                "\n",
                "# Definir los parámetros para la búsqueda\n",
                "param_grid = {\n",
                "    'C': [0.1, 1, 10, 100],\n",
                "    'kernel': ['linear', 'rbf'],\n",
                "    'gamma': [1, 0.1, 0.01, 0.001]\n",
                "}\n",
                "\n",
                "# Crear el modelo SVM\n",
                "svm = SVC()\n",
                "\n",
                "# Implementar Grid Search con validación cruzada\n",
                "grid_search = GridSearchCV(svm, param_grid, refit=True, verbose=2, cv=5)\n",
                "grid_search.fit(X_train_tfidf, y_train)\n",
                "\n",
                "# Mejor combinación de hiperparámetros\n",
                "print(\"Mejores hiperparámetros encontrados por Grid Search:\")\n",
                "print(grid_search.best_params_)\n",
                "\n",
                "# Evaluación del modelo optimizado en el conjunto de prueba\n",
                "y_pred_optimized = grid_search.predict(X_test_tfidf)\n",
                "accuracy_optimized = accuracy_score(y_test, y_pred_optimized)\n",
                "report_optimized = classification_report(y_test, y_pred_optimized)\n",
                "\n",
                "print(f\"Accuracy del modelo SVM optimizado: {accuracy_optimized:.2f}\")\n",
                "print(\"Reporte de clasificación del modelo optimizado:\")\n",
                "print(report_optimized)"
            ]
        },
        {
            "cell_type": "code",
            "execution_count": 17,
            "metadata": {},
            "outputs": [
                {
                    "data": {
                        "text/plain": [
                            "['svm_spam_detector.pkl']"
                        ]
                    },
                    "execution_count": 17,
                    "metadata": {},
                    "output_type": "execute_result"
                }
            ],
            "source": [
                "import joblib\n",
                "\n",
                "# Guardar el modelo optimizado en un archivo\n",
                "joblib.dump(grid_search.best_estimator_, 'svm_spam_detector.pkl')"
            ]
        }
    ],
    "metadata": {
        "kernelspec": {
            "display_name": "Python 3.8.13 64-bit ('3.8.13')",
            "language": "python",
            "name": "python3"
        },
        "language_info": {
            "codemirror_mode": {
                "name": "ipython",
                "version": 3
            },
            "file_extension": ".py",
            "mimetype": "text/x-python",
            "name": "python",
            "nbconvert_exporter": "python",
            "pygments_lexer": "ipython3",
            "version": "3.10.12"
        },
        "orig_nbformat": 4,
        "vscode": {
            "interpreter": {
                "hash": "110cc1dee26208153f2972f08a2ad52b6a56238dc66d48e87fb757ef2996db56"
            }
        }
    },
    "nbformat": 4,
    "nbformat_minor": 2
}
